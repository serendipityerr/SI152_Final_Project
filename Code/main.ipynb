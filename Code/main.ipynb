{
 "cells": [
  {
   "cell_type": "code",
   "execution_count": 10,
   "metadata": {},
   "outputs": [],
   "source": [
    "from ADAL_bay import adal_solver, adal_solver_bay\n",
    "from IRWA_bay import irwa_solver, irwa_solver_bay\n",
    "from func import initialize_experiment, objective, experimentSetup\n",
    "from cvxopt import solvers, matrix\n",
    "from time import time\n",
    "\n",
    "\n",
    "w_A1 = 30\n",
    "w_A2 = 30\n",
    "h_A = w_A1+w_A2"
   ]
  },
  {
   "cell_type": "code",
   "execution_count": 11,
   "metadata": {},
   "outputs": [],
   "source": [
    "A1, b1, A2, b2, g, H = initialize_experiment(\n",
    "    w_A1=w_A1, w_A2=w_A2, h_A=h_A, type=\"numpy\"\n",
    ")\n",
    "\n",
    "A1_matrix = matrix(A1)\n",
    "b1_matrix = matrix(-b1)\n",
    "A2_matrix = matrix(A2)\n",
    "b2_matrix = matrix(-b2)\n",
    "g_matrix = matrix(g)\n",
    "H_matrix = matrix(H)"
   ]
  },
  {
   "cell_type": "code",
   "execution_count": 12,
   "metadata": {},
   "outputs": [
    {
     "name": "stdout",
     "output_type": "stream",
     "text": [
      "     pcost       dcost       gap    pres   dres\n",
      " 0:  3.4707e+04  9.0181e+04  2e+05  2e+00  2e+02\n",
      " 1:  5.5269e+04  3.9687e+04  3e+04  3e-01  3e+01\n",
      " 2:  5.5864e+04  5.3207e+04  4e+03  2e-02  2e+00\n",
      " 3:  5.5319e+04  5.5134e+04  2e+02  5e-04  5e-02\n",
      " 4:  5.5268e+04  5.5262e+04  6e+00  8e-06  8e-04\n",
      " 5:  5.5265e+04  5.5265e+04  2e-01  8e-08  9e-06\n",
      " 6:  5.5265e+04  5.5265e+04  2e-02  7e-10  8e-08\n",
      "Optimal solution found.\n",
      "CVXOPT Result:  [-2.23e+00]\n",
      "[ 7.77e+00]\n",
      "[ 7.21e+00]\n",
      "[ 7.23e+00]\n",
      "[-1.40e+01]\n",
      "[-5.57e+00]\n",
      "[-3.87e+00]\n",
      "[ 4.02e+00]\n",
      "[ 2.47e+00]\n",
      "[-6.70e-01]\n",
      "[ 3.18e+00]\n",
      "[-3.21e+00]\n",
      "[ 5.76e+00]\n",
      "[-9.77e+00]\n",
      "[-2.60e+00]\n",
      "[-2.02e+00]\n",
      "[ 6.37e+00]\n",
      "[ 1.55e+00]\n",
      "[ 1.43e-01]\n",
      "[-1.99e+00]\n",
      "[-8.88e+00]\n",
      "[-6.30e+00]\n",
      "[-8.43e+00]\n",
      "[ 4.28e+00]\n",
      "[-8.29e+00]\n",
      "[ 1.34e+01]\n",
      "[ 5.64e+00]\n",
      "[ 4.93e+00]\n",
      "[-7.70e+00]\n",
      "[ 1.04e+01]\n",
      "[-1.12e+01]\n",
      "[ 1.32e+00]\n",
      "[-4.36e+00]\n",
      "[ 5.74e+00]\n",
      "[ 4.78e+00]\n",
      "[-4.22e+00]\n",
      "[ 1.42e+00]\n",
      "[ 1.86e-01]\n",
      "[-2.41e+00]\n",
      "[-4.39e+00]\n",
      "[-1.89e+00]\n",
      "[ 1.19e+00]\n",
      "[ 1.69e+00]\n",
      "[-7.27e-01]\n",
      "[ 5.29e+00]\n",
      "[ 1.60e+01]\n",
      "[-7.98e+00]\n",
      "[ 1.10e+01]\n",
      "[-3.34e+00]\n",
      "[ 3.43e+00]\n",
      "[-5.22e+00]\n",
      "[-5.62e+00]\n",
      "[ 3.35e+00]\n",
      "[-7.51e-01]\n",
      "[ 3.12e+00]\n",
      "[ 2.67e+00]\n",
      "[-1.07e+01]\n",
      "[ 2.63e+00]\n",
      "[ 1.39e+00]\n",
      "[-3.35e+00]\n",
      "\n",
      "CVXOPT Objective:  [[55265.07671417]]\n"
     ]
    }
   ],
   "source": [
    "t1 = time()\n",
    "cvxopt_sol = solvers.qp(H_matrix, g_matrix, A2_matrix, b2_matrix, A1_matrix, b1_matrix)\n",
    "t2 = time()\n",
    "x_opt = cvxopt_sol[\"x\"]\n",
    "objective_opt = objective(g, H, x_opt)\n",
    "time_opt = t2 - t1\n",
    "print(\"CVXOPT Result: \", x_opt)\n",
    "print(\"CVXOPT Objective: \", objective_opt)"
   ]
  },
  {
   "cell_type": "code",
   "execution_count": 13,
   "metadata": {},
   "outputs": [
    {
     "name": "stdout",
     "output_type": "stream",
     "text": [
      "ADAL Result:  [ -3.67543669  13.17990638  30.83368867  19.11121908 -22.21188804\n",
      "  -5.25264974 -15.90159371 -11.62690095  -6.46744032   4.7891547\n",
      "   3.37402527  33.72618295  12.54675132 -36.71436382 -27.6369239\n",
      " -19.72863113   2.50104994 -27.10371093  38.21333648 -24.8794386\n",
      " -12.20910031 -40.05094282  31.02302058  -3.80427526  31.89599471\n",
      "  41.71101597  -0.27828734  25.79975844   0.24979567 -13.66175044\n",
      "  24.03744198 -43.5656006   16.3817982  -16.10623644 -12.4288227\n",
      "  23.46678467   3.35580644  26.09693196 -23.1922143   -9.15808187\n",
      "  11.45069656  -9.50700543  21.84503955 -11.31906433   6.51066267\n",
      "  18.80396261 -35.56651178   9.61175738 -22.74976542 -42.95068626\n",
      "  17.3266468   15.42674143   4.77026448 -11.22220966  10.59988705\n",
      " -19.89943098   3.17651802  31.14169724   2.37292236 -28.68249587]\n",
      "ADAL Objective:  -23095.439355725448\n"
     ]
    }
   ],
   "source": [
    "t1 = time()\n",
    "x_adal, p, u = adal_solver(A1, b1, A2, b2, g, H)\n",
    "t2 = time()\n",
    "tiem_adal = t2 - t1\n",
    "objective_adal = objective(g, H, x_adal)\n",
    "print(\"ADAL Result: \", x_adal)\n",
    "print(\"ADAL Objective: \", objective_adal)"
   ]
  },
  {
   "cell_type": "code",
   "execution_count": 14,
   "metadata": {},
   "outputs": [
    {
     "name": "stderr",
     "output_type": "stream",
     "text": [
      "e:\\Scoop\\apps\\python\\current\\Lib\\site-packages\\skopt\\optimizer\\optimizer.py:517: UserWarning: The objective has been evaluated at point [100.0, 100.0] before, using random point [15.193177840201189, 12.661873198183748]\n",
      "  warnings.warn(\n",
      "e:\\Scoop\\apps\\python\\current\\Lib\\site-packages\\skopt\\optimizer\\optimizer.py:517: UserWarning: The objective has been evaluated at point [100.0, 100.0] before, using random point [9.17253379382755, 82.2002254591201]\n",
      "  warnings.warn(\n",
      "e:\\Scoop\\apps\\python\\current\\Lib\\site-packages\\skopt\\optimizer\\optimizer.py:517: UserWarning: The objective has been evaluated at point [100.0, 100.0] before, using random point [86.42630580408762, 21.184893275664383]\n",
      "  warnings.warn(\n",
      "e:\\Scoop\\apps\\python\\current\\Lib\\site-packages\\skopt\\optimizer\\optimizer.py:517: UserWarning: The objective has been evaluated at point [100.0, 100.0] before, using random point [62.51429555233569, 28.156418178481225]\n",
      "  warnings.warn(\n",
      "e:\\Scoop\\apps\\python\\current\\Lib\\site-packages\\skopt\\optimizer\\optimizer.py:517: UserWarning: The objective has been evaluated at point [100.0, 100.0] before, using random point [17.421275460704045, 17.302032634537987]\n",
      "  warnings.warn(\n",
      "e:\\Scoop\\apps\\python\\current\\Lib\\site-packages\\skopt\\optimizer\\optimizer.py:517: UserWarning: The objective has been evaluated at point [100.0, 100.0] before, using random point [71.41676951110352, 3.0466213165582685]\n",
      "  warnings.warn(\n",
      "e:\\Scoop\\apps\\python\\current\\Lib\\site-packages\\skopt\\optimizer\\optimizer.py:517: UserWarning: The objective has been evaluated at point [100.0, 100.0] before, using random point [32.207344709848186, 28.536252480120954]\n",
      "  warnings.warn(\n",
      "e:\\Scoop\\apps\\python\\current\\Lib\\site-packages\\skopt\\optimizer\\optimizer.py:517: UserWarning: The objective has been evaluated at point [100.0, 100.0] before, using random point [13.75471933033623, 46.557333623843114]\n",
      "  warnings.warn(\n",
      "e:\\Scoop\\apps\\python\\current\\Lib\\site-packages\\skopt\\optimizer\\optimizer.py:517: UserWarning: The objective has been evaluated at point [100.0, 100.0] before, using random point [18.215620700295027, 28.228370975362164]\n",
      "  warnings.warn(\n",
      "e:\\Scoop\\apps\\python\\current\\Lib\\site-packages\\skopt\\optimizer\\optimizer.py:517: UserWarning: The objective has been evaluated at point [100.0, 100.0] before, using random point [98.77063384473344, 52.442019181625554]\n",
      "  warnings.warn(\n",
      "e:\\Scoop\\apps\\python\\current\\Lib\\site-packages\\skopt\\optimizer\\optimizer.py:517: UserWarning: The objective has been evaluated at point [100.0, 100.0] before, using random point [57.948598518190025, 54.509544221827056]\n",
      "  warnings.warn(\n",
      "e:\\Scoop\\apps\\python\\current\\Lib\\site-packages\\skopt\\optimizer\\optimizer.py:517: UserWarning: The objective has been evaluated at point [100.0, 100.0] before, using random point [50.8767303956471, 24.344761098517623]\n",
      "  warnings.warn(\n",
      "e:\\Scoop\\apps\\python\\current\\Lib\\site-packages\\skopt\\optimizer\\optimizer.py:517: UserWarning: The objective has been evaluated at point [100.0, 100.0] before, using random point [86.17065914574297, 89.22685345103912]\n",
      "  warnings.warn(\n",
      "e:\\Scoop\\apps\\python\\current\\Lib\\site-packages\\skopt\\optimizer\\optimizer.py:517: UserWarning: The objective has been evaluated at point [100.0, 100.0] before, using random point [56.77693766103585, 5.796456265845781]\n",
      "  warnings.warn(\n",
      "e:\\Scoop\\apps\\python\\current\\Lib\\site-packages\\skopt\\optimizer\\optimizer.py:517: UserWarning: The objective has been evaluated at point [100.0, 100.0] before, using random point [93.69041235011986, 54.77252517712448]\n",
      "  warnings.warn(\n",
      "e:\\Scoop\\apps\\python\\current\\Lib\\site-packages\\skopt\\optimizer\\optimizer.py:517: UserWarning: The objective has been evaluated at point [100.0, 100.0] before, using random point [15.27641427193831, 43.34096620062312]\n",
      "  warnings.warn(\n",
      "e:\\Scoop\\apps\\python\\current\\Lib\\site-packages\\skopt\\optimizer\\optimizer.py:517: UserWarning: The objective has been evaluated at point [100.0, 100.0] before, using random point [9.964731249388645, 33.11086930361345]\n",
      "  warnings.warn(\n",
      "e:\\Scoop\\apps\\python\\current\\Lib\\site-packages\\skopt\\optimizer\\optimizer.py:517: UserWarning: The objective has been evaluated at point [100.0, 100.0] before, using random point [69.98797255240285, 27.403811743689065]\n",
      "  warnings.warn(\n",
      "e:\\Scoop\\apps\\python\\current\\Lib\\site-packages\\skopt\\optimizer\\optimizer.py:517: UserWarning: The objective has been evaluated at point [100.0, 100.0] before, using random point [15.184859657784887, 51.29450019815196]\n",
      "  warnings.warn(\n",
      "e:\\Scoop\\apps\\python\\current\\Lib\\site-packages\\skopt\\optimizer\\optimizer.py:517: UserWarning: The objective has been evaluated at point [100.0, 100.0] before, using random point [88.45516750412597, 32.07794334565699]\n",
      "  warnings.warn(\n",
      "e:\\Scoop\\apps\\python\\current\\Lib\\site-packages\\skopt\\optimizer\\optimizer.py:517: UserWarning: The objective has been evaluated at point [100.0, 100.0] before, using random point [44.48843932558878, 4.709303508747872]\n",
      "  warnings.warn(\n",
      "e:\\Scoop\\apps\\python\\current\\Lib\\site-packages\\skopt\\optimizer\\optimizer.py:517: UserWarning: The objective has been evaluated at point [100.0, 100.0] before, using random point [53.434388921537746, 85.63013504099571]\n",
      "  warnings.warn(\n",
      "e:\\Scoop\\apps\\python\\current\\Lib\\site-packages\\skopt\\optimizer\\optimizer.py:517: UserWarning: The objective has been evaluated at point [100.0, 100.0] before, using random point [75.84757994586874, 74.6597938875862]\n",
      "  warnings.warn(\n",
      "e:\\Scoop\\apps\\python\\current\\Lib\\site-packages\\skopt\\optimizer\\optimizer.py:517: UserWarning: The objective has been evaluated at point [100.0, 100.0] before, using random point [29.566355880068485, 88.83022519570355]\n",
      "  warnings.warn(\n"
     ]
    }
   ],
   "source": [
    "t1 = time()\n",
    "x_adal_bay, p, u, M1_adal_bay, M2_adal_bay, iter_M_adal_bay, iter_objective_adal_bay = (\n",
    "    adal_solver_bay(A1, b1, A2, b2, g, H)\n",
    ")\n",
    "t2 = time()\n",
    "tiem_adal_bay = t2 - t1\n",
    "objective_adal_bay = objective(g, H, x_adal_bay)\n",
    "print(\"ADAL Bay Result: \", x_adal_bay, M1_adal_bay, M2_adal_bay)\n",
    "print(\"ADAL Bay Objective: \", objective_adal_bay)\n"
   ]
  },
  {
   "cell_type": "code",
   "execution_count": null,
   "metadata": {},
   "outputs": [],
   "source": [
    "try:\n",
    "    t1 = time()\n",
    "    x_irwa = irwa_solver(A1, b1, A2, b2, g, H)\n",
    "    t2 = time()\n",
    "    tiem_irwa = t2 - t1\n",
    "    objective_irwa = objective(g, H, x_irwa)\n",
    "    print(\"IRWA Result: \", x_irwa)\n",
    "    print(\"IRWA Objective: \", objective_irwa)\n",
    "except:\n",
    "    print(\"IRWA Result: Failed\")"
   ]
  },
  {
   "cell_type": "code",
   "execution_count": null,
   "metadata": {},
   "outputs": [],
   "source": [
    "t1 = time()\n",
    "x_irwa_bay, M1_irwa_bay, M2_irwa_bay, iter_M_irwa_bay, iter_objective_irwa_bay = (\n",
    "    irwa_solver_bay(A1, b1, A2, b2, g, H)\n",
    ")\n",
    "t2 = time()\n",
    "tiem_irwa_bay = t2 - t1\n",
    "objective_irwa_bay = objective(g, H, x_irwa_bay)\n",
    "print(\"IRWA Bay Result: \", x_irwa_bay, M1_irwa_bay, M2_irwa_bay)\n",
    "print(\"IRWA Bay Objective: \", objective_irwa_bay)"
   ]
  }
 ],
 "metadata": {
  "kernelspec": {
   "display_name": "Python 3",
   "language": "python",
   "name": "python3"
  },
  "language_info": {
   "codemirror_mode": {
    "name": "ipython",
    "version": 3
   },
   "file_extension": ".py",
   "mimetype": "text/x-python",
   "name": "python",
   "nbconvert_exporter": "python",
   "pygments_lexer": "ipython3",
   "version": "3.13.0"
  }
 },
 "nbformat": 4,
 "nbformat_minor": 2
}
